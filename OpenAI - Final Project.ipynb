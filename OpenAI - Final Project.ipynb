{
 "cells": [
  {
   "cell_type": "markdown",
   "id": "fae21eea",
   "metadata": {},
   "source": [
    "## Amanda Cesario's notebook for DS Final Project\n",
    "### Question 5: How does IonQ's risk factors change over time?\n",
    "### Group 3 members: Cole Barrett, Caterina Grossi, Connor Steward\n",
    "This notebook is using OpenAI's API to extract: Noun phrases, entity relationships, NER, and sentiment scores. Then, the results are saved to a csv file that will be later cleaned in \"Cleaning - Final Project\" notebook."
   ]
  },
  {
   "cell_type": "code",
   "execution_count": 1,
   "id": "0f6f2f7f",
   "metadata": {},
   "outputs": [],
   "source": [
    "import os\n",
    "from openai import OpenAI\n",
    "from dotenv import load_dotenv\n",
    "import pandas as pd\n",
    "import numpy as np"
   ]
  },
  {
   "cell_type": "code",
   "execution_count": 2,
   "id": "f46df551",
   "metadata": {},
   "outputs": [
    {
     "name": "stdout",
     "output_type": "stream",
     "text": [
      "This is a test\n"
     ]
    }
   ],
   "source": [
    "load_dotenv()\n",
    "\n",
    "# Initialize OpenAI client with API key\n",
    "client = OpenAI(api_key=os.getenv(\"OPENAI_API_KEY\"))\n",
    "\n",
    "# Test API call\n",
    "chat_completion = client.chat.completions.create(\n",
    "    model=\"gpt-3.5-turbo\",  # Model selection\n",
    "    messages=[\n",
    "        {\"role\": \"user\", \"content\": \"Say this is a test\"},\n",
    "    ]\n",
    ")\n",
    "\n",
    "# Print response\n",
    "print(chat_completion.choices[0].message.content)"
   ]
  },
  {
   "cell_type": "markdown",
   "id": "77e4089a",
   "metadata": {},
   "source": [
    "# Noun Phrase Extraction"
   ]
  },
  {
   "cell_type": "code",
   "execution_count": 3,
   "id": "7ed4a9de",
   "metadata": {},
   "outputs": [],
   "source": [
    "# Create a function to read my txt files\n",
    "def extract_text_from_txt(txt_path):\n",
    "    \"\"\"Reads text from a .txt file.\"\"\"\n",
    "    with open(txt_path, \"r\", encoding=\"utf-8\") as file:\n",
    "        return file.read()"
   ]
  },
  {
   "cell_type": "code",
   "execution_count": 4,
   "id": "47740273",
   "metadata": {},
   "outputs": [],
   "source": [
    "RF_2021 = extract_text_from_txt(\"IONQ 2021 10K_Item1A.txt\")"
   ]
  },
  {
   "cell_type": "code",
   "execution_count": 8,
   "id": "f1364dea",
   "metadata": {},
   "outputs": [],
   "source": [
    "# Define chunk size (adjust based on OpenAI token limits)\n",
    "chunk_size = 200\n",
    "content_chunks = [RF_2021[i:i + chunk_size] for i in range(0, len(RF_2021), chunk_size)]\n",
    "\n",
    "# List to store results\n",
    "results = []\n",
    "\n",
    "# Process chunks one by one\n",
    "for i, chunk in enumerate(content_chunks):\n",
    "    conversation = [\n",
    "        {\"role\": \"system\", \"content\": \"Extract noun phrases from the following text:\"},\n",
    "        {\"role\": \"user\", \"content\": chunk},\n",
    "    ]\n",
    "\n",
    "    response = client.chat.completions.create(\n",
    "        model=\"gpt-3.5-turbo\",\n",
    "        messages=conversation\n",
    "    )\n",
    "\n",
    "    # Extract output\n",
    "    output = response.choices[0].message.content.strip()\n",
    "\n",
    "    # Append results to the list\n",
    "    results.append({\"Chunk Number\": i + 1, \"Noun Phrases\": output})\n",
    "\n",
    "# Convert results to DataFrame\n",
    "df = pd.DataFrame(results)\n",
    "\n",
    "# Save to CSV\n",
    "csv_filename = \"2021 NPs.csv\"\n",
    "df.to_csv(csv_filename, index=False, encoding=\"utf-8\")\n",
    "\n",
    "print(f\"✅ Results saved to {csv_filename}\")"
   ]
  },
  {
   "cell_type": "code",
   "execution_count": 9,
   "id": "a0c6eccb",
   "metadata": {},
   "outputs": [
    {
     "data": {
      "text/html": [
       "<div>\n",
       "<style scoped>\n",
       "    .dataframe tbody tr th:only-of-type {\n",
       "        vertical-align: middle;\n",
       "    }\n",
       "\n",
       "    .dataframe tbody tr th {\n",
       "        vertical-align: top;\n",
       "    }\n",
       "\n",
       "    .dataframe thead th {\n",
       "        text-align: right;\n",
       "    }\n",
       "</style>\n",
       "<table border=\"1\" class=\"dataframe\">\n",
       "  <thead>\n",
       "    <tr style=\"text-align: right;\">\n",
       "      <th></th>\n",
       "      <th>Chunk Number</th>\n",
       "      <th>Noun Phrases</th>\n",
       "    </tr>\n",
       "  </thead>\n",
       "  <tbody>\n",
       "    <tr>\n",
       "      <th>0</th>\n",
       "      <td>1</td>\n",
       "      <td>- Risk Factors\\n- investment\\n- securities\\n- ...</td>\n",
       "    </tr>\n",
       "    <tr>\n",
       "      <th>1</th>\n",
       "      <td>2</td>\n",
       "      <td>- Form 10-K\\n- Decision\\n- Investment\\n- Units...</td>\n",
       "    </tr>\n",
       "    <tr>\n",
       "      <th>2</th>\n",
       "      <td>3</td>\n",
       "      <td>- event\\n- trading price\\n- securities\\n- inve...</td>\n",
       "    </tr>\n",
       "    <tr>\n",
       "      <th>3</th>\n",
       "      <td>4</td>\n",
       "      <td>- rating history\\n- no revenues\\n- basis\\n- ab...</td>\n",
       "    </tr>\n",
       "    <tr>\n",
       "      <th>4</th>\n",
       "      <td>5</td>\n",
       "      <td>initial business combination, vote, holders, f...</td>\n",
       "    </tr>\n",
       "  </tbody>\n",
       "</table>\n",
       "</div>"
      ],
      "text/plain": [
       "   Chunk Number                                       Noun Phrases\n",
       "0             1  - Risk Factors\\n- investment\\n- securities\\n- ...\n",
       "1             2  - Form 10-K\\n- Decision\\n- Investment\\n- Units...\n",
       "2             3  - event\\n- trading price\\n- securities\\n- inve...\n",
       "3             4  - rating history\\n- no revenues\\n- basis\\n- ab...\n",
       "4             5  initial business combination, vote, holders, f..."
      ]
     },
     "execution_count": 9,
     "metadata": {},
     "output_type": "execute_result"
    }
   ],
   "source": [
    "# Checking if it was saved properly, it was\n",
    "NP = pd.read_csv('2021 NPs.csv')\n",
    "NP.head()"
   ]
  },
  {
   "cell_type": "code",
   "execution_count": 10,
   "id": "91cc7497",
   "metadata": {},
   "outputs": [],
   "source": [
    "# Since it takes awhile, I'm only going to do 2021 and 2024 for now.\n",
    "# This will allow a good comparison from when they first went public to how they're doing after 3 years\n",
    "RF_2024 = extract_text_from_txt(\"IONQ 2024 10K_Item1A.txt\")\n",
    "\n",
    "# Define chunk size (adjust based on OpenAI token limits)\n",
    "chunk_size = 200\n",
    "content_chunks = [RF_2024[i:i + chunk_size] for i in range(0, len(RF_2024), chunk_size)]\n",
    "\n",
    "# List to store results\n",
    "results = []\n",
    "\n",
    "# Process chunks one by one\n",
    "for i, chunk in enumerate(content_chunks):\n",
    "    conversation = [\n",
    "        {\"role\": \"system\", \"content\": \"Extract noun phrases from the following text:\"},\n",
    "        {\"role\": \"user\", \"content\": chunk},\n",
    "    ]\n",
    "\n",
    "    response = client.chat.completions.create(\n",
    "        model=\"gpt-3.5-turbo\",\n",
    "        messages=conversation\n",
    "    )\n",
    "\n",
    "    # Extract output\n",
    "    output = response.choices[0].message.content.strip()\n",
    "\n",
    "    # Append results to the list\n",
    "    results.append({\"Chunk Number\": i + 1, \"Noun Phrases\": output})\n",
    "\n",
    "# Convert results to DataFrame\n",
    "df = pd.DataFrame(results)\n",
    "\n",
    "# Save to CSV\n",
    "csv_filename = \"2024 NPs.csv\"\n",
    "df.to_csv(csv_filename, index=False, encoding=\"utf-8\")\n",
    "\n",
    "print(f\"✅ Results saved to {csv_filename}\")"
   ]
  },
  {
   "cell_type": "code",
   "execution_count": 11,
   "id": "26712a7b",
   "metadata": {},
   "outputs": [
    {
     "data": {
      "text/html": [
       "<div>\n",
       "<style scoped>\n",
       "    .dataframe tbody tr th:only-of-type {\n",
       "        vertical-align: middle;\n",
       "    }\n",
       "\n",
       "    .dataframe tbody tr th {\n",
       "        vertical-align: top;\n",
       "    }\n",
       "\n",
       "    .dataframe thead th {\n",
       "        text-align: right;\n",
       "    }\n",
       "</style>\n",
       "<table border=\"1\" class=\"dataframe\">\n",
       "  <thead>\n",
       "    <tr style=\"text-align: right;\">\n",
       "      <th></th>\n",
       "      <th>Chunk Number</th>\n",
       "      <th>Noun Phrases</th>\n",
       "    </tr>\n",
       "  </thead>\n",
       "  <tbody>\n",
       "    <tr>\n",
       "      <th>0</th>\n",
       "      <td>1</td>\n",
       "      <td>- Item 1A\\n- Risk factors\\n- Our securities\\n-...</td>\n",
       "    </tr>\n",
       "    <tr>\n",
       "      <th>1</th>\n",
       "      <td>2</td>\n",
       "      <td>- Cautionary Note \\n- Forward-Looking Statemen...</td>\n",
       "    </tr>\n",
       "    <tr>\n",
       "      <th>2</th>\n",
       "      <td>3</td>\n",
       "      <td>- Annual Report\\n- events\\n- developments\\n- b...</td>\n",
       "    </tr>\n",
       "    <tr>\n",
       "      <th>3</th>\n",
       "      <td>4</td>\n",
       "      <td>- common stock\\n- all or part of your investme...</td>\n",
       "    </tr>\n",
       "    <tr>\n",
       "      <th>4</th>\n",
       "      <td>5</td>\n",
       "      <td>- risks\\n- our business\\n- a number\\n- immater...</td>\n",
       "    </tr>\n",
       "  </tbody>\n",
       "</table>\n",
       "</div>"
      ],
      "text/plain": [
       "   Chunk Number                                       Noun Phrases\n",
       "0             1  - Item 1A\\n- Risk factors\\n- Our securities\\n-...\n",
       "1             2  - Cautionary Note \\n- Forward-Looking Statemen...\n",
       "2             3  - Annual Report\\n- events\\n- developments\\n- b...\n",
       "3             4  - common stock\\n- all or part of your investme...\n",
       "4             5  - risks\\n- our business\\n- a number\\n- immater..."
      ]
     },
     "execution_count": 11,
     "metadata": {},
     "output_type": "execute_result"
    }
   ],
   "source": [
    "# Checking to make sure it was saved properly\n",
    "NP24 = pd.read_csv('2024 NPs.csv')\n",
    "NP24.head()"
   ]
  },
  {
   "cell_type": "markdown",
   "id": "b92bbe8d",
   "metadata": {},
   "source": [
    "# Entity Relationship Extraction and Senitment Analysis"
   ]
  },
  {
   "cell_type": "code",
   "execution_count": 8,
   "id": "2f4a3267",
   "metadata": {},
   "outputs": [],
   "source": [
    "from langchain.llms import OpenAI\n",
    "from langchain.prompts import PromptTemplate\n",
    "from langchain.chains import LLMChain\n",
    "import pandas as pd\n",
    "from tqdm import tqdm # To see progress on extraction"
   ]
  },
  {
   "cell_type": "code",
   "execution_count": 4,
   "id": "4402e05e",
   "metadata": {},
   "outputs": [],
   "source": [
    "RF_2021 = extract_text_from_txt(\"IONQ 2021 10K_Item1A.txt\")"
   ]
  },
  {
   "cell_type": "code",
   "execution_count": 5,
   "id": "508171c3",
   "metadata": {},
   "outputs": [],
   "source": [
    "RF_2024 = extract_text_from_txt(\"IONQ 2024 10K_Item1A.txt\")"
   ]
  },
  {
   "cell_type": "markdown",
   "id": "9b860bab",
   "metadata": {},
   "source": [
    "# NER"
   ]
  },
  {
   "cell_type": "code",
   "execution_count": 12,
   "id": "f9782564",
   "metadata": {},
   "outputs": [
    {
     "name": "stderr",
     "output_type": "stream",
     "text": [
      "Processing chunks:   0%|                                | 0/828 [00:00<?, ?it/s]/var/folders/d5/xgyv5k3s5370cxsqjq5nlzxm0000gn/T/ipykernel_31010/176120494.py:9: LangChainDeprecationWarning: The class `OpenAI` was deprecated in LangChain 0.0.10 and will be removed in 1.0. An updated version of the class exists in the :class:`~langchain-openai package and should be used instead. To use it run `pip install -U :class:`~langchain-openai` and import as `from :class:`~langchain_openai import OpenAI``.\n",
      "  llm = OpenAI(temperature=0.7, max_tokens=200)\n",
      "/var/folders/d5/xgyv5k3s5370cxsqjq5nlzxm0000gn/T/ipykernel_31010/176120494.py:17: LangChainDeprecationWarning: The class `LLMChain` was deprecated in LangChain 0.1.17 and will be removed in 1.0. Use :meth:`~RunnableSequence, e.g., `prompt | llm`` instead.\n",
      "  llm_chain = LLMChain(prompt=prompt, llm=llm)\n",
      "Processing chunks: 100%|██████████████████████| 828/828 [17:31<00:00,  1.27s/it]"
     ]
    },
    {
     "name": "stdout",
     "output_type": "stream",
     "text": [
      "✅ Results saved to 2021_NER.csv\n"
     ]
    },
    {
     "name": "stderr",
     "output_type": "stream",
     "text": [
      "\n"
     ]
    }
   ],
   "source": [
    "# 2021 Extraction\n",
    "\n",
    "# Define a function to extract named entities using an LLMChain\n",
    "def extract_ner(text):\n",
    "    llm = OpenAI(temperature=0.7, max_tokens=200)\n",
    "    \n",
    "    template = \"\"\"\n",
    "    For the following passage, please identify all named entities and return them with their corresponding entity types in JSON format:\n",
    "    {text}\n",
    "    \"\"\"\n",
    "    prompt = PromptTemplate(template=template, input_variables=[\"text\"])\n",
    "    \n",
    "    llm_chain = LLMChain(prompt=prompt, llm=llm)\n",
    "    result = llm_chain.invoke({\"text\": text})\n",
    "    return result\n",
    "\n",
    "# Change your file path/variable here\n",
    "chunk_size = 200  \n",
    "content_chunks = [RF_2021[i:i + chunk_size] for i in range(0, len(RF_2021), chunk_size)]\n",
    "\n",
    "results = []\n",
    "\n",
    "# Process each chunk with a progress tracker\n",
    "for i, chunk in enumerate(tqdm(content_chunks, desc=\"Processing chunks\")):\n",
    "    ner_output = extract_ner(chunk)\n",
    "    results.append({\"Chunk Number\": i + 1, \"Named Entities\": ner_output})\n",
    "\n",
    "# Convert results to a DataFrame and save as CSV\n",
    "df = pd.DataFrame(results)\n",
    "csv_filename = \"2021_NER.csv\"\n",
    "df.to_csv(csv_filename, index=False, encoding=\"utf-8\")\n",
    "print(f\"✅ Results saved to {csv_filename}\")"
   ]
  },
  {
   "cell_type": "code",
   "execution_count": 13,
   "id": "3cde52d8",
   "metadata": {},
   "outputs": [
    {
     "data": {
      "text/html": [
       "<div>\n",
       "<style scoped>\n",
       "    .dataframe tbody tr th:only-of-type {\n",
       "        vertical-align: middle;\n",
       "    }\n",
       "\n",
       "    .dataframe tbody tr th {\n",
       "        vertical-align: top;\n",
       "    }\n",
       "\n",
       "    .dataframe thead th {\n",
       "        text-align: right;\n",
       "    }\n",
       "</style>\n",
       "<table border=\"1\" class=\"dataframe\">\n",
       "  <thead>\n",
       "    <tr style=\"text-align: right;\">\n",
       "      <th></th>\n",
       "      <th>Chunk Number</th>\n",
       "      <th>Named Entities</th>\n",
       "    </tr>\n",
       "  </thead>\n",
       "  <tbody>\n",
       "    <tr>\n",
       "      <th>0</th>\n",
       "      <td>1</td>\n",
       "      <td>{'text': '\\n\\n{\"securities\": \"Item 1A\", \"risk ...</td>\n",
       "    </tr>\n",
       "    <tr>\n",
       "      <th>1</th>\n",
       "      <td>2</td>\n",
       "      <td>{'text': '\\n    {\\n        \"Form 10-K\": \"Produ...</td>\n",
       "    </tr>\n",
       "    <tr>\n",
       "      <th>2</th>\n",
       "      <td>3</td>\n",
       "      <td>{'text': '\\n    {\\n        \"that event\": \"Even...</td>\n",
       "    </tr>\n",
       "    <tr>\n",
       "      <th>3</th>\n",
       "      <td>4</td>\n",
       "      <td>{'text': '\\n    [{\"entity\": \"rating history\", ...</td>\n",
       "    </tr>\n",
       "    <tr>\n",
       "      <th>4</th>\n",
       "      <td>5</td>\n",
       "      <td>{'text': '\\n{\\n  \"initial business combination...</td>\n",
       "    </tr>\n",
       "  </tbody>\n",
       "</table>\n",
       "</div>"
      ],
      "text/plain": [
       "   Chunk Number                                     Named Entities\n",
       "0             1  {'text': '\\n\\n{\"securities\": \"Item 1A\", \"risk ...\n",
       "1             2  {'text': '\\n    {\\n        \"Form 10-K\": \"Produ...\n",
       "2             3  {'text': '\\n    {\\n        \"that event\": \"Even...\n",
       "3             4  {'text': '\\n    [{\"entity\": \"rating history\", ...\n",
       "4             5  {'text': '\\n{\\n  \"initial business combination..."
      ]
     },
     "execution_count": 13,
     "metadata": {},
     "output_type": "execute_result"
    }
   ],
   "source": [
    "NER21 = pd.read_csv('2021_NER.csv')\n",
    "NER21.head()"
   ]
  },
  {
   "cell_type": "code",
   "execution_count": 9,
   "id": "703208e3",
   "metadata": {},
   "outputs": [
    {
     "name": "stderr",
     "output_type": "stream",
     "text": [
      "Processing chunks:   0%|                                | 0/949 [00:00<?, ?it/s]/var/folders/d5/xgyv5k3s5370cxsqjq5nlzxm0000gn/T/ipykernel_31511/2638922538.py:4: LangChainDeprecationWarning: The class `OpenAI` was deprecated in LangChain 0.0.10 and will be removed in 1.0. An updated version of the class exists in the :class:`~langchain-openai package and should be used instead. To use it run `pip install -U :class:`~langchain-openai` and import as `from :class:`~langchain_openai import OpenAI``.\n",
      "  llm = OpenAI(temperature=0.7, max_tokens=200)\n",
      "/var/folders/d5/xgyv5k3s5370cxsqjq5nlzxm0000gn/T/ipykernel_31511/2638922538.py:12: LangChainDeprecationWarning: The class `LLMChain` was deprecated in LangChain 0.1.17 and will be removed in 1.0. Use :meth:`~RunnableSequence, e.g., `prompt | llm`` instead.\n",
      "  llm_chain = LLMChain(prompt=prompt, llm=llm)\n",
      "Processing chunks: 100%|██████████████████████| 949/949 [21:29<00:00,  1.36s/it]"
     ]
    },
    {
     "name": "stdout",
     "output_type": "stream",
     "text": [
      "✅ Results saved to 2024_NER.csv\n"
     ]
    },
    {
     "name": "stderr",
     "output_type": "stream",
     "text": [
      "\n"
     ]
    }
   ],
   "source": [
    "# 2024 Extraction\n",
    "# Change your file path here (from RF_21 to RF_24)\n",
    "chunk_size = 200  \n",
    "content_chunks = [RF_2024[i:i + chunk_size] for i in range(0, len(RF_2024), chunk_size)]\n",
    "\n",
    "results = []\n",
    "\n",
    "# Process each chunk with a progress tracker\n",
    "for i, chunk in enumerate(tqdm(content_chunks, desc=\"Processing chunks\")):\n",
    "    ner_output = extract_ner(chunk)\n",
    "    results.append({\"Chunk Number\": i + 1, \"Named Entities\": ner_output})\n",
    "\n",
    "# Convert results to a DataFrame and save as CSV\n",
    "df = pd.DataFrame(results)\n",
    "csv_filename = \"2024_NER.csv\"\n",
    "df.to_csv(csv_filename, index=False, encoding=\"utf-8\")\n",
    "print(f\"✅ Results saved to {csv_filename}\")"
   ]
  },
  {
   "cell_type": "code",
   "execution_count": 10,
   "id": "879d114c",
   "metadata": {},
   "outputs": [
    {
     "data": {
      "text/html": [
       "<div>\n",
       "<style scoped>\n",
       "    .dataframe tbody tr th:only-of-type {\n",
       "        vertical-align: middle;\n",
       "    }\n",
       "\n",
       "    .dataframe tbody tr th {\n",
       "        vertical-align: top;\n",
       "    }\n",
       "\n",
       "    .dataframe thead th {\n",
       "        text-align: right;\n",
       "    }\n",
       "</style>\n",
       "<table border=\"1\" class=\"dataframe\">\n",
       "  <thead>\n",
       "    <tr style=\"text-align: right;\">\n",
       "      <th></th>\n",
       "      <th>Chunk Number</th>\n",
       "      <th>Named Entities</th>\n",
       "    </tr>\n",
       "  </thead>\n",
       "  <tbody>\n",
       "    <tr>\n",
       "      <th>0</th>\n",
       "      <td>1</td>\n",
       "      <td>{'text': '\\n    {\\n        \"Item 1A\": \"entity\"...</td>\n",
       "    </tr>\n",
       "    <tr>\n",
       "      <th>1</th>\n",
       "      <td>2</td>\n",
       "      <td>{'text': '\\n    {\\n        \"Above\": \"Organizat...</td>\n",
       "    </tr>\n",
       "    <tr>\n",
       "      <th>2</th>\n",
       "      <td>3</td>\n",
       "      <td>{'text': '\\n{\\n    \"Annual Report\": \"Publicati...</td>\n",
       "    </tr>\n",
       "    <tr>\n",
       "      <th>3</th>\n",
       "      <td>4</td>\n",
       "      <td>{'text': '\\n    {\"entities\": [\\n        {\"name...</td>\n",
       "    </tr>\n",
       "    <tr>\n",
       "      <th>4</th>\n",
       "      <td>5</td>\n",
       "      <td>{'text': '\\n{\\n  \"named_entities\": [\\n    {\\n ...</td>\n",
       "    </tr>\n",
       "  </tbody>\n",
       "</table>\n",
       "</div>"
      ],
      "text/plain": [
       "   Chunk Number                                     Named Entities\n",
       "0             1  {'text': '\\n    {\\n        \"Item 1A\": \"entity\"...\n",
       "1             2  {'text': '\\n    {\\n        \"Above\": \"Organizat...\n",
       "2             3  {'text': '\\n{\\n    \"Annual Report\": \"Publicati...\n",
       "3             4  {'text': '\\n    {\"entities\": [\\n        {\"name...\n",
       "4             5  {'text': '\\n{\\n  \"named_entities\": [\\n    {\\n ..."
      ]
     },
     "execution_count": 10,
     "metadata": {},
     "output_type": "execute_result"
    }
   ],
   "source": [
    "# Checking to see if it was saved properly\n",
    "NER24 = pd.read_csv('2024_NER.csv')\n",
    "NER24.head()"
   ]
  },
  {
   "cell_type": "markdown",
   "id": "05864595",
   "metadata": {},
   "source": [
    "# Relationships"
   ]
  },
  {
   "cell_type": "code",
   "execution_count": 11,
   "id": "98ffc316",
   "metadata": {},
   "outputs": [
    {
     "name": "stderr",
     "output_type": "stream",
     "text": [
      "Processing chunks: 100%|██████████████████████| 828/828 [29:46<00:00,  2.16s/it]"
     ]
    },
    {
     "name": "stdout",
     "output_type": "stream",
     "text": [
      "✅ Results saved to 2021_Relationships.csv\n"
     ]
    },
    {
     "name": "stderr",
     "output_type": "stream",
     "text": [
      "\n"
     ]
    }
   ],
   "source": [
    "# 2021 extraction\n",
    "# Define a function to extract relationships using an LLMChain\n",
    "def extract_relationship(text):\n",
    "    llm = OpenAI(temperature=0.7, max_tokens=200)\n",
    "    \n",
    "    template = \"\"\"\n",
    "    Find all noun phrases in the passage and their semantic types, construct relationships between pairs of \n",
    "    these entities in the form of a triple, identify the semantic type of the triple and output in a JSON structure.\n",
    "    : {text} \n",
    "    \"\"\"\n",
    "    \n",
    "    prompt = PromptTemplate(template=template, input_variables=[\"text\"])\n",
    "    llm_chain = LLMChain(prompt=prompt, llm=llm)\n",
    "    \n",
    "    result = llm_chain.invoke({\"text\": text})\n",
    "    return result\n",
    "\n",
    "# Change your file path/variable here\n",
    "chunk_size = 200  # Adjust based on token limits\n",
    "content_chunks = [RF_2021[i:i + chunk_size] for i in range(0, len(RF_2021), chunk_size)]\n",
    "\n",
    "results = []\n",
    "\n",
    "# Process each chunk with a progress tracker\n",
    "for i, chunk in enumerate(tqdm(content_chunks, desc=\"Processing chunks\")):\n",
    "    relationship_output = extract_relationship(chunk)\n",
    "    results.append({\"Chunk Number\": i + 1, \"Relationship Extraction\": relationship_output})\n",
    "\n",
    "# Convert results to a DataFrame and save as CSV\n",
    "df = pd.DataFrame(results)\n",
    "csv_filename = \"2021_Relationships.csv\"\n",
    "df.to_csv(csv_filename, index=False, encoding=\"utf-8\")\n",
    "print(f\"✅ Results saved to {csv_filename}\")"
   ]
  },
  {
   "cell_type": "code",
   "execution_count": 12,
   "id": "a6a7e7bd",
   "metadata": {},
   "outputs": [
    {
     "data": {
      "text/html": [
       "<div>\n",
       "<style scoped>\n",
       "    .dataframe tbody tr th:only-of-type {\n",
       "        vertical-align: middle;\n",
       "    }\n",
       "\n",
       "    .dataframe tbody tr th {\n",
       "        vertical-align: top;\n",
       "    }\n",
       "\n",
       "    .dataframe thead th {\n",
       "        text-align: right;\n",
       "    }\n",
       "</style>\n",
       "<table border=\"1\" class=\"dataframe\">\n",
       "  <thead>\n",
       "    <tr style=\"text-align: right;\">\n",
       "      <th></th>\n",
       "      <th>Chunk Number</th>\n",
       "      <th>Relationship Extraction</th>\n",
       "    </tr>\n",
       "  </thead>\n",
       "  <tbody>\n",
       "    <tr>\n",
       "      <th>0</th>\n",
       "      <td>1</td>\n",
       "      <td>{'text': '\\n    JSON Output: \\n    [\\n        ...</td>\n",
       "    </tr>\n",
       "    <tr>\n",
       "      <th>1</th>\n",
       "      <td>2</td>\n",
       "      <td>{'text': '\"triples\": [\\n        {\\n           ...</td>\n",
       "    </tr>\n",
       "    <tr>\n",
       "      <th>2</th>\n",
       "      <td>3</td>\n",
       "      <td>{'text': '\\n    [\\n        {\\n            \"ent...</td>\n",
       "    </tr>\n",
       "    <tr>\n",
       "      <th>3</th>\n",
       "      <td>4</td>\n",
       "      <td>{'text': '\\n    JSON output: \\n    {\\n        ...</td>\n",
       "    </tr>\n",
       "    <tr>\n",
       "      <th>4</th>\n",
       "      <td>5</td>\n",
       "      <td>{'text': '\\n\\n[\\n    {\\n        \"entity\": \"ini...</td>\n",
       "    </tr>\n",
       "  </tbody>\n",
       "</table>\n",
       "</div>"
      ],
      "text/plain": [
       "   Chunk Number                            Relationship Extraction\n",
       "0             1  {'text': '\\n    JSON Output: \\n    [\\n        ...\n",
       "1             2  {'text': '\"triples\": [\\n        {\\n           ...\n",
       "2             3  {'text': '\\n    [\\n        {\\n            \"ent...\n",
       "3             4  {'text': '\\n    JSON output: \\n    {\\n        ...\n",
       "4             5  {'text': '\\n\\n[\\n    {\\n        \"entity\": \"ini..."
      ]
     },
     "execution_count": 12,
     "metadata": {},
     "output_type": "execute_result"
    }
   ],
   "source": [
    "relations21 = pd.read_csv('2021_Relationships.csv')\n",
    "relations21.head()"
   ]
  },
  {
   "cell_type": "code",
   "execution_count": 13,
   "id": "bc744ff5",
   "metadata": {},
   "outputs": [
    {
     "name": "stderr",
     "output_type": "stream",
     "text": [
      "Processing chunks: 100%|██████████████████████| 949/949 [33:40<00:00,  2.13s/it]"
     ]
    },
    {
     "name": "stdout",
     "output_type": "stream",
     "text": [
      "✅ Results saved to 2024_Relationships.csv\n"
     ]
    },
    {
     "name": "stderr",
     "output_type": "stream",
     "text": [
      "\n"
     ]
    }
   ],
   "source": [
    "# 2024 extraction\n",
    "# Change your file path/variable here (From RF_21 to RF_24)\n",
    "chunk_size = 200  # Adjust based on token limits\n",
    "content_chunks = [RF_2024[i:i + chunk_size] for i in range(0, len(RF_2024), chunk_size)]\n",
    "\n",
    "results = []\n",
    "\n",
    "# Process each chunk with a progress tracker\n",
    "for i, chunk in enumerate(tqdm(content_chunks, desc=\"Processing chunks\")):\n",
    "    relationship_output = extract_relationship(chunk)\n",
    "    results.append({\"Chunk Number\": i + 1, \"Relationship Extraction\": relationship_output})\n",
    "\n",
    "# Convert results to a DataFrame and save as CSV\n",
    "df = pd.DataFrame(results)\n",
    "csv_filename = \"2024_Relationships.csv\"\n",
    "df.to_csv(csv_filename, index=False, encoding=\"utf-8\")\n",
    "print(f\"✅ Results saved to {csv_filename}\")"
   ]
  },
  {
   "cell_type": "code",
   "execution_count": 14,
   "id": "d7f33dd0",
   "metadata": {},
   "outputs": [
    {
     "data": {
      "text/html": [
       "<div>\n",
       "<style scoped>\n",
       "    .dataframe tbody tr th:only-of-type {\n",
       "        vertical-align: middle;\n",
       "    }\n",
       "\n",
       "    .dataframe tbody tr th {\n",
       "        vertical-align: top;\n",
       "    }\n",
       "\n",
       "    .dataframe thead th {\n",
       "        text-align: right;\n",
       "    }\n",
       "</style>\n",
       "<table border=\"1\" class=\"dataframe\">\n",
       "  <thead>\n",
       "    <tr style=\"text-align: right;\">\n",
       "      <th></th>\n",
       "      <th>Chunk Number</th>\n",
       "      <th>Relationship Extraction</th>\n",
       "    </tr>\n",
       "  </thead>\n",
       "  <tbody>\n",
       "    <tr>\n",
       "      <th>0</th>\n",
       "      <td>1</td>\n",
       "      <td>{'text': '\\n\\n    \"triples\": [\\n        {\\n   ...</td>\n",
       "    </tr>\n",
       "    <tr>\n",
       "      <th>1</th>\n",
       "      <td>2</td>\n",
       "      <td>{'text': '\\n[\\n    {\\n        \"entity\": \"Cauti...</td>\n",
       "    </tr>\n",
       "    <tr>\n",
       "      <th>2</th>\n",
       "      <td>3</td>\n",
       "      <td>{'text': 'r stock could decline, and the\\n\\n\\n...</td>\n",
       "    </tr>\n",
       "    <tr>\n",
       "      <th>3</th>\n",
       "      <td>4</td>\n",
       "      <td>{'text': '\\n   \\n    JSON Output: \\n    {\\n   ...</td>\n",
       "    </tr>\n",
       "    <tr>\n",
       "      <th>4</th>\n",
       "      <td>5</td>\n",
       "      <td>{'text': '\\nJSON Output:\\n[\\n  {\\n    \"triple\"...</td>\n",
       "    </tr>\n",
       "  </tbody>\n",
       "</table>\n",
       "</div>"
      ],
      "text/plain": [
       "   Chunk Number                            Relationship Extraction\n",
       "0             1  {'text': '\\n\\n    \"triples\": [\\n        {\\n   ...\n",
       "1             2  {'text': '\\n[\\n    {\\n        \"entity\": \"Cauti...\n",
       "2             3  {'text': 'r stock could decline, and the\\n\\n\\n...\n",
       "3             4  {'text': '\\n   \\n    JSON Output: \\n    {\\n   ...\n",
       "4             5  {'text': '\\nJSON Output:\\n[\\n  {\\n    \"triple\"..."
      ]
     },
     "execution_count": 14,
     "metadata": {},
     "output_type": "execute_result"
    }
   ],
   "source": [
    "relations24 = pd.read_csv('2024_Relationships.csv')\n",
    "relations24.head()"
   ]
  },
  {
   "cell_type": "markdown",
   "id": "d3a4b2d7",
   "metadata": {},
   "source": [
    "# Sentiments/Polarity"
   ]
  },
  {
   "cell_type": "code",
   "execution_count": 15,
   "id": "a0d648f4",
   "metadata": {},
   "outputs": [
    {
     "name": "stderr",
     "output_type": "stream",
     "text": [
      "Processing sentiment chunks: 100%|████████████| 828/828 [08:31<00:00,  1.62it/s]"
     ]
    },
    {
     "name": "stdout",
     "output_type": "stream",
     "text": [
      "✅ Results saved to 2021_Polarity.csv\n"
     ]
    },
    {
     "name": "stderr",
     "output_type": "stream",
     "text": [
      "\n"
     ]
    }
   ],
   "source": [
    "# 2021\n",
    "# Define a function to predict sentiment as a polarity score using an LLMChain\n",
    "def predict_sentiment(text):\n",
    "    llm = OpenAI(temperature=0.7, max_tokens=200)\n",
    "    \n",
    "    template = \"\"\"\n",
    "    Analyze the sentiment of the following text and return a polarity score between -1 (most negative) and 1 (most positive). Provide only the score:\n",
    "    {text}\n",
    "    \"\"\"\n",
    "    \n",
    "    prompt = PromptTemplate(template=template, input_variables=[\"text\"])\n",
    "    llm_chain = LLMChain(prompt=prompt, llm=llm)\n",
    "    \n",
    "    result = llm_chain.invoke({\"text\": text})\n",
    "    return result\n",
    "\n",
    "# Change your file path/variable here\n",
    "chunk_size = 200  \n",
    "content_chunks = [RF_2021[i:i + chunk_size] for i in range(0, len(RF_2021), chunk_size)]\n",
    "\n",
    "results = []\n",
    "\n",
    "# Process each chunk with a progress tracker\n",
    "for i, chunk in enumerate(tqdm(content_chunks, desc=\"Processing sentiment chunks\")):\n",
    "    sentiment_output = predict_sentiment(chunk)\n",
    "    results.append({\"Chunk Number\": i + 1, \"Polarity Score\": sentiment_output})\n",
    "\n",
    "# Convert results to a DataFrame and save as CSV\n",
    "df = pd.DataFrame(results)\n",
    "csv_filename = \"2021_Polarity.csv\"\n",
    "df.to_csv(csv_filename, index=False, encoding=\"utf-8\")\n",
    "print(f\"✅ Results saved to {csv_filename}\")"
   ]
  },
  {
   "cell_type": "code",
   "execution_count": 16,
   "id": "b902e134",
   "metadata": {},
   "outputs": [
    {
     "data": {
      "text/html": [
       "<div>\n",
       "<style scoped>\n",
       "    .dataframe tbody tr th:only-of-type {\n",
       "        vertical-align: middle;\n",
       "    }\n",
       "\n",
       "    .dataframe tbody tr th {\n",
       "        vertical-align: top;\n",
       "    }\n",
       "\n",
       "    .dataframe thead th {\n",
       "        text-align: right;\n",
       "    }\n",
       "</style>\n",
       "<table border=\"1\" class=\"dataframe\">\n",
       "  <thead>\n",
       "    <tr style=\"text-align: right;\">\n",
       "      <th></th>\n",
       "      <th>Chunk Number</th>\n",
       "      <th>Polarity Score</th>\n",
       "    </tr>\n",
       "  </thead>\n",
       "  <tbody>\n",
       "    <tr>\n",
       "      <th>0</th>\n",
       "      <td>1</td>\n",
       "      <td>{'text': '\\n-0.8'}</td>\n",
       "    </tr>\n",
       "    <tr>\n",
       "      <th>1</th>\n",
       "      <td>2</td>\n",
       "      <td>{'text': '\\n-0.3'}</td>\n",
       "    </tr>\n",
       "    <tr>\n",
       "      <th>2</th>\n",
       "      <td>3</td>\n",
       "      <td>{'text': '\\n-0.6'}</td>\n",
       "    </tr>\n",
       "    <tr>\n",
       "      <th>3</th>\n",
       "      <td>4</td>\n",
       "      <td>{'text': '\\n-0.7'}</td>\n",
       "    </tr>\n",
       "    <tr>\n",
       "      <th>4</th>\n",
       "      <td>5</td>\n",
       "      <td>{'text': '\\n-0.2'}</td>\n",
       "    </tr>\n",
       "  </tbody>\n",
       "</table>\n",
       "</div>"
      ],
      "text/plain": [
       "   Chunk Number      Polarity Score\n",
       "0             1  {'text': '\\n-0.8'}\n",
       "1             2  {'text': '\\n-0.3'}\n",
       "2             3  {'text': '\\n-0.6'}\n",
       "3             4  {'text': '\\n-0.7'}\n",
       "4             5  {'text': '\\n-0.2'}"
      ]
     },
     "execution_count": 16,
     "metadata": {},
     "output_type": "execute_result"
    }
   ],
   "source": [
    "sentiment21 = pd.read_csv('2021_Polarity.csv')\n",
    "sentiment21.head()"
   ]
  },
  {
   "cell_type": "code",
   "execution_count": 17,
   "id": "dbb49954",
   "metadata": {},
   "outputs": [
    {
     "name": "stderr",
     "output_type": "stream",
     "text": [
      "Processing sentiment chunks: 100%|████████████| 949/949 [10:15<00:00,  1.54it/s]"
     ]
    },
    {
     "name": "stdout",
     "output_type": "stream",
     "text": [
      "✅ Results saved to 2024_Polarity.csv\n"
     ]
    },
    {
     "name": "stderr",
     "output_type": "stream",
     "text": [
      "\n"
     ]
    }
   ],
   "source": [
    "# 2024\n",
    "# Change your file path/variable here (From RF_21 to RF_24)\n",
    "chunk_size = 200  \n",
    "content_chunks = [RF_2024[i:i + chunk_size] for i in range(0, len(RF_2024), chunk_size)]\n",
    "\n",
    "results = []\n",
    "\n",
    "# Process each chunk with a progress tracker\n",
    "for i, chunk in enumerate(tqdm(content_chunks, desc=\"Processing sentiment chunks\")):\n",
    "    sentiment_output = predict_sentiment(chunk)\n",
    "    results.append({\"Chunk Number\": i + 1, \"Polarity Score\": sentiment_output})\n",
    "\n",
    "# Convert results to a DataFrame and save as CSV\n",
    "df = pd.DataFrame(results)\n",
    "csv_filename = \"2024_Polarity.csv\"\n",
    "df.to_csv(csv_filename, index=False, encoding=\"utf-8\")\n",
    "print(f\"✅ Results saved to {csv_filename}\")"
   ]
  },
  {
   "cell_type": "code",
   "execution_count": 18,
   "id": "299b0534",
   "metadata": {},
   "outputs": [
    {
     "data": {
      "text/html": [
       "<div>\n",
       "<style scoped>\n",
       "    .dataframe tbody tr th:only-of-type {\n",
       "        vertical-align: middle;\n",
       "    }\n",
       "\n",
       "    .dataframe tbody tr th {\n",
       "        vertical-align: top;\n",
       "    }\n",
       "\n",
       "    .dataframe thead th {\n",
       "        text-align: right;\n",
       "    }\n",
       "</style>\n",
       "<table border=\"1\" class=\"dataframe\">\n",
       "  <thead>\n",
       "    <tr style=\"text-align: right;\">\n",
       "      <th></th>\n",
       "      <th>Chunk Number</th>\n",
       "      <th>Polarity Score</th>\n",
       "    </tr>\n",
       "  </thead>\n",
       "  <tbody>\n",
       "    <tr>\n",
       "      <th>0</th>\n",
       "      <td>1</td>\n",
       "      <td>{'text': '\\n-0.2'}</td>\n",
       "    </tr>\n",
       "    <tr>\n",
       "      <th>1</th>\n",
       "      <td>2</td>\n",
       "      <td>{'text': '\\n\\n0.0'}</td>\n",
       "    </tr>\n",
       "    <tr>\n",
       "      <th>2</th>\n",
       "      <td>3</td>\n",
       "      <td>{'text': '\\n-0.2'}</td>\n",
       "    </tr>\n",
       "    <tr>\n",
       "      <th>3</th>\n",
       "      <td>4</td>\n",
       "      <td>{'text': '\\n-1'}</td>\n",
       "    </tr>\n",
       "    <tr>\n",
       "      <th>4</th>\n",
       "      <td>5</td>\n",
       "      <td>{'text': '\\n-0.5'}</td>\n",
       "    </tr>\n",
       "  </tbody>\n",
       "</table>\n",
       "</div>"
      ],
      "text/plain": [
       "   Chunk Number       Polarity Score\n",
       "0             1   {'text': '\\n-0.2'}\n",
       "1             2  {'text': '\\n\\n0.0'}\n",
       "2             3   {'text': '\\n-0.2'}\n",
       "3             4     {'text': '\\n-1'}\n",
       "4             5   {'text': '\\n-0.5'}"
      ]
     },
     "execution_count": 18,
     "metadata": {},
     "output_type": "execute_result"
    }
   ],
   "source": [
    "sentiment24 = pd.read_csv('2024_Polarity.csv')\n",
    "sentiment24.head()"
   ]
  },
  {
   "cell_type": "code",
   "execution_count": null,
   "id": "d9774cf3",
   "metadata": {},
   "outputs": [],
   "source": []
  },
  {
   "cell_type": "code",
   "execution_count": null,
   "id": "70106981",
   "metadata": {},
   "outputs": [],
   "source": []
  }
 ],
 "metadata": {
  "kernelspec": {
   "display_name": "Python 3 (ipykernel)",
   "language": "python",
   "name": "python3"
  },
  "language_info": {
   "codemirror_mode": {
    "name": "ipython",
    "version": 3
   },
   "file_extension": ".py",
   "mimetype": "text/x-python",
   "name": "python",
   "nbconvert_exporter": "python",
   "pygments_lexer": "ipython3",
   "version": "3.10.9"
  }
 },
 "nbformat": 4,
 "nbformat_minor": 5
}
